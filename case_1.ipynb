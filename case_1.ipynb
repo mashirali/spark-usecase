{
 "cells": [
  {
   "cell_type": "code",
   "execution_count": 1,
   "id": "b1dbbfb0-bdea-4056-8254-a67355335017",
   "metadata": {},
   "outputs": [],
   "source": [
    "# In Jupyter Notebooks, it allows you to work with Spark without explicitly configuring the environment, \n",
    "# which makes it easier to use Spark for data processing and analysis within the Jupyter environment.\n",
    "# or when you want to use Spark in an environment where it is not directly available, such as in a Jupyter Notebook\n",
    "import findspark\n",
    "findspark.init()"
   ]
  },
  {
   "cell_type": "markdown",
   "id": "389da709-fb59-4ea8-b60c-ce213d99ef33",
   "metadata": {},
   "source": [
    "## import required modules"
   ]
  },
  {
   "cell_type": "code",
   "execution_count": 2,
   "id": "88e6fd72-eb4c-411c-88c0-900e55151567",
   "metadata": {},
   "outputs": [],
   "source": [
    "from pyspark import SparkConf, SparkContext\n",
    "from pyspark.sql import SparkSession\n",
    "from pyspark.sql.types import StructType, StructField, StringType, IntegerType, ArrayType\n",
    "from pyspark.sql.functions import *\n",
    "import pyspark.sql.functions as F\n",
    "import warnings\n",
    "from pyspark.sql.types import *\n",
    "\n",
    "warnings.filterwarnings('ignore')"
   ]
  },
  {
   "cell_type": "code",
   "execution_count": 3,
   "id": "c5d9cba8-b30d-43af-9880-0492e4e17ad1",
   "metadata": {},
   "outputs": [],
   "source": [
    "import os\n",
    "import sys\n",
    "\n",
    "os.environ['PYSPARK_PYTHON'] = sys.executable\n",
    "os.environ['PYSPARK_DRIVER_PYTHON'] = sys.executable"
   ]
  },
  {
   "cell_type": "code",
   "execution_count": 4,
   "id": "ce04d9ab-5da2-40d8-bf02-70c5a6422e8d",
   "metadata": {},
   "outputs": [
    {
     "name": "stderr",
     "output_type": "stream",
     "text": [
      "java version \"1.8.0_381\"\n",
      "Java(TM) SE Runtime Environment (build 1.8.0_381-b09)\n",
      "Java HotSpot(TM) 64-Bit Server VM (build 25.381-b09, mixed mode)\n"
     ]
    }
   ],
   "source": [
    "!java -version"
   ]
  },
  {
   "cell_type": "markdown",
   "id": "83f084e7-d70f-4e23-b5cd-b96c8dcf4aa6",
   "metadata": {},
   "source": [
    "## Initializing Spark Session"
   ]
  },
  {
   "cell_type": "code",
   "execution_count": 5,
   "id": "3559ab95-df1c-47cc-b9d8-60ef7d4c840d",
   "metadata": {},
   "outputs": [],
   "source": [
    "# Initializing a Spark session\n",
    "spark = SparkSession.builder \\\n",
    "    .appName('BBG Case Study Case 1') \\\n",
    "    .config(\"spark.sql.shuffle.partitions\", \"2\") \\\n",
    "    .getOrCreate()"
   ]
  },
  {
   "cell_type": "code",
   "execution_count": 6,
   "id": "6fdde405-3a18-4949-876b-108788d295e9",
   "metadata": {},
   "outputs": [
    {
     "name": "stdout",
     "output_type": "stream",
     "text": [
      "Number of partitions: 12\n"
     ]
    }
   ],
   "source": [
    "# You can check the number of partitions using the following command\n",
    "spark_partitions = spark.sparkContext.defaultParallelism\n",
    "print(\"Number of partitions:\", spark_partitions)"
   ]
  },
  {
   "cell_type": "markdown",
   "id": "9d0c8927-635c-4d9b-b9d4-7f8cb3416348",
   "metadata": {
    "tags": []
   },
   "source": [
    "# Case 1.1"
   ]
  },
  {
   "cell_type": "markdown",
   "id": "be328803-4481-4831-94ba-cc7481cc7972",
   "metadata": {},
   "source": [
    "### Loading data from CSV files"
   ]
  },
  {
   "cell_type": "code",
   "execution_count": 7,
   "id": "4d549d3b-c1da-4166-9791-11fccb1cbb30",
   "metadata": {},
   "outputs": [
    {
     "name": "stdout",
     "output_type": "stream",
     "text": [
      "+---+----------+--------+----------+-------------+-----------------+---------------------+--------------------------+-------------------+-----------------------+------+---------------------+-----------+\n",
      "|#  |child_asin|sessions|page_views|units_ordered|units_ordered_b2b|ordered_products_sale|ordered_products_sales_b2b|total_ordered_items|total_ordered_items_b2b|region|shop_name            |report_date|\n",
      "+---+----------+--------+----------+-------------+-----------------+---------------------+--------------------------+-------------------+-----------------------+------+---------------------+-----------+\n",
      "|1  |B00H5155LG|1       |1         |0            |0                |116.64               |62.49                     |0                  |0                      |UK    |Elektronik-Star      |2022-03-20 |\n",
      "|2  |B002P7L4R4|1       |2         |0            |0                |121.55               |227.24                    |0                  |0                      |UK    |Elektronik-Star      |2022-03-16 |\n",
      "|3  |B08H52NTJ2|2       |2         |0            |0                |79.82                |5.76                      |0                  |0                      |FR    |Klarstein Deutschland|2022-02-20 |\n",
      "|4  |B07D5GJZ85|2       |6         |0            |0                |76.51                |211.71                    |0                  |0                      |ES    |Elektronik-Star      |2022-03-31 |\n",
      "|5  |B07YZM55RQ|1       |4         |0            |0                |63.37                |128.15                    |0                  |0                      |FR    |Elektronik-Star      |2022-02-28 |\n",
      "+---+----------+--------+----------+-------------+-----------------+---------------------+--------------------------+-------------------+-----------------------+------+---------------------+-----------+\n",
      "only showing top 5 rows\n",
      "\n"
     ]
    }
   ],
   "source": [
    "# Loading the sales data into Spark Cluster\n",
    "sales_df = spark.read.csv('F:/usecase/DATA/sales_and_traffic_data.csv', header=True)\n",
    "sales_df.show(5, truncate=False)"
   ]
  },
  {
   "cell_type": "code",
   "execution_count": 8,
   "id": "f51516a6-020d-49da-85d2-0ce3ae3fdc56",
   "metadata": {},
   "outputs": [
    {
     "data": {
      "text/plain": [
       "5000"
      ]
     },
     "execution_count": 8,
     "metadata": {},
     "output_type": "execute_result"
    }
   ],
   "source": [
    "sales_df.count()"
   ]
  },
  {
   "cell_type": "code",
   "execution_count": 9,
   "id": "afa3d77b-8874-4c72-ab45-1aa2593bdf5d",
   "metadata": {},
   "outputs": [
    {
     "name": "stdout",
     "output_type": "stream",
     "text": [
      "+---------+-------+----+--------+\n",
      "|shop_name|country|id  |currency|\n",
      "+---------+-------+----+--------+\n",
      "|Flyweight|IT     |5823|EUR     |\n",
      "|Flyweight|SE     |4213|SEK     |\n",
      "|Flyweight|PL     |621 |PLN     |\n",
      "|Flyweight|TR     |8772|TRY     |\n",
      "|Flyweight|FR     |9257|EUR     |\n",
      "+---------+-------+----+--------+\n",
      "only showing top 5 rows\n",
      "\n"
     ]
    }
   ],
   "source": [
    "# Loading the sales data into Spark Cluster\n",
    "shop_mapping_df = spark.read.csv('F:/usecase/DATA/amazon_shop_mapping.csv', header=True)\n",
    "shop_mapping_df.show(5, truncate=False)"
   ]
  },
  {
   "cell_type": "code",
   "execution_count": 10,
   "id": "71dacf2a-470d-453e-9446-7102be96c316",
   "metadata": {},
   "outputs": [
    {
     "data": {
      "text/plain": [
       "1082"
      ]
     },
     "execution_count": 10,
     "metadata": {},
     "output_type": "execute_result"
    }
   ],
   "source": [
    "shop_mapping_df.count()"
   ]
  },
  {
   "cell_type": "markdown",
   "id": "fc957785-ca44-4c1b-9fb3-d86db29a5f94",
   "metadata": {},
   "source": [
    "### Setting up the conversion rate as no free conversion api found so far"
   ]
  },
  {
   "cell_type": "code",
   "execution_count": 11,
   "id": "a09782bf-5011-4237-a1d3-e01d101f6e6e",
   "metadata": {},
   "outputs": [],
   "source": [
    "conversion_rate = 55"
   ]
  },
  {
   "cell_type": "markdown",
   "id": "20d689c1-2f7b-489b-b416-5e1b255ac7f3",
   "metadata": {},
   "source": [
    "### Join dataframes and apply currency conversion"
   ]
  },
  {
   "cell_type": "code",
   "execution_count": 12,
   "id": "1edb462e-0945-4606-b225-62dd0f4b770c",
   "metadata": {},
   "outputs": [],
   "source": [
    "# Join the two dataframes on shop_name column\n",
    "joined_df = sales_df.alias(\"df1\").join(broadcast(shop_mapping_df).alias(\"df2\"), on=\"shop_name\", how=\"inner\")"
   ]
  },
  {
   "cell_type": "markdown",
   "id": "c196564b-553e-4d50-90d2-edf74d2cdc4e",
   "metadata": {},
   "source": [
    "### Select required columns and drop redundant columns"
   ]
  },
  {
   "cell_type": "code",
   "execution_count": 13,
   "id": "61203923-5bda-4525-8ac9-a31415b1d077",
   "metadata": {},
   "outputs": [
    {
     "name": "stdout",
     "output_type": "stream",
     "text": [
      "+----------+--------+----------+-------------+-----------------+---------------------+--------------------------+-------------------+-----------------------+------+---------+-----------+-------+----+--------+\n",
      "|child_asin|sessions|page_views|units_ordered|units_ordered_b2b|ordered_products_sale|ordered_products_sales_b2b|total_ordered_items|total_ordered_items_b2b|region|shop_name|report_date|country|  id|currency|\n",
      "+----------+--------+----------+-------------+-----------------+---------------------+--------------------------+-------------------+-----------------------+------+---------+-----------+-------+----+--------+\n",
      "|B07KNDZF8Z|       1|         1|            0|                0|               242.25|                     73.52|                  0|                      0|    IT|  Feelino| 2022-02-02|     UK|6767|     GBP|\n",
      "|B07KNDZF8Z|       1|         1|            0|                0|               242.25|                     73.52|                  0|                      0|    IT|  Feelino| 2022-02-02|     DE|5632|     EUR|\n",
      "+----------+--------+----------+-------------+-----------------+---------------------+--------------------------+-------------------+-----------------------+------+---------+-----------+-------+----+--------+\n",
      "only showing top 2 rows\n",
      "\n"
     ]
    }
   ],
   "source": [
    "joined_df = joined_df.select(\"df1.child_asin\", \"df1.sessions\", \"df1.page_views\", \"df1.units_ordered\",\n",
    "                                     \"df1.units_ordered_b2b\", \"df1.ordered_products_sale\", \"df1.ordered_products_sales_b2b\",\n",
    "                                     \"df1.total_ordered_items\", \"df1.total_ordered_items_b2b\", \"df1.region\",\n",
    "                                     \"df1.shop_name\", \"df1.report_date\", \"df2.country\",\n",
    "                                     \"df2.id\", \"df2.currency\")\n",
    "# Show the converted data\n",
    "joined_df.show(2)\n"
   ]
  },
  {
   "cell_type": "code",
   "execution_count": 14,
   "id": "86d2a3f7-9713-4f48-9f65-a9141150cf55",
   "metadata": {},
   "outputs": [
    {
     "data": {
      "text/plain": [
       "1458"
      ]
     },
     "execution_count": 14,
     "metadata": {},
     "output_type": "execute_result"
    }
   ],
   "source": [
    "joined_df.count()"
   ]
  },
  {
   "cell_type": "code",
   "execution_count": 15,
   "id": "71e44e9b-c8d1-4577-abc8-b15cb3259202",
   "metadata": {},
   "outputs": [],
   "source": [
    "import requests\n",
    "import json\n",
    "\n",
    "@udf(returnType=FloatType())\n",
    "def convert_currency(amount, from_currency, to_currency):\n",
    "    # Constructing the API URL with the parameters\n",
    "    API_KEY = '21aed5d93748d017cb953a8b4d46248a'\n",
    "    url = f\"http://api.currencylayer.com/convert?access_key={API_KEY}&from={from_currency}&to={to_currency}&amount={amount}\"\n",
    "    # Sending a GET request and get the response\n",
    "    #response = requests.get(url)\n",
    "    # Parsing the JSON data\n",
    "    #data = json.loads(response.text)\n",
    "    # Get the converted amount\n",
    "    data = {}\n",
    "    data[\"result\"] = 55.0\n",
    "    if 'result' in data:\n",
    "        # Get the converted amount\n",
    "        return data[\"result\"]\n",
    "    #return data[\"result\"]\n"
   ]
  },
  {
   "cell_type": "code",
   "execution_count": 16,
   "id": "4076ce9b-ed18-4b79-8dca-860e0a186f7e",
   "metadata": {},
   "outputs": [
    {
     "name": "stdout",
     "output_type": "stream",
     "text": [
      "+----------+--------+----------+-------------+-----------------+---------------------+--------------------------+-------------------+-----------------------+------+---------+-----------+-------+----+--------+-------------------------+\n",
      "|child_asin|sessions|page_views|units_ordered|units_ordered_b2b|ordered_products_sale|ordered_products_sales_b2b|total_ordered_items|total_ordered_items_b2b|region|shop_name|report_date|country|id  |currency|ordered_products_sale_eur|\n",
      "+----------+--------+----------+-------------+-----------------+---------------------+--------------------------+-------------------+-----------------------+------+---------+-----------+-------+----+--------+-------------------------+\n",
      "|B07KNDZF8Z|1       |1         |0            |0                |242.25               |73.52                     |0                  |0                      |IT    |Feelino  |2022-02-02 |UK     |6767|GBP     |55.0                     |\n",
      "|B07KNDZF8Z|1       |1         |0            |0                |242.25               |73.52                     |0                  |0                      |IT    |Feelino  |2022-02-02 |DE     |5632|EUR     |55.0                     |\n",
      "|B07KNDZF8Z|1       |1         |0            |0                |242.25               |73.52                     |0                  |0                      |IT    |Feelino  |2022-02-02 |ES     |6612|EUR     |55.0                     |\n",
      "|B07KNDZF8Z|1       |1         |0            |0                |242.25               |73.52                     |0                  |0                      |IT    |Feelino  |2022-02-02 |NL     |656 |EUR     |55.0                     |\n",
      "|B07KNDZF8Z|1       |1         |0            |0                |242.25               |73.52                     |0                  |0                      |IT    |Feelino  |2022-02-02 |FR     |3206|EUR     |55.0                     |\n",
      "+----------+--------+----------+-------------+-----------------+---------------------+--------------------------+-------------------+-----------------------+------+---------+-----------+-------+----+--------+-------------------------+\n",
      "only showing top 5 rows\n",
      "\n"
     ]
    }
   ],
   "source": [
    "from pyspark.sql.functions import col, lit\n",
    "from pyspark.sql import functions as F\n",
    "\n",
    "# Apply the user-defined function to convert sales columns to EUR\n",
    "joined_df = joined_df.withColumn(\"ordered_products_sale_eur\", convert_currency(F.col(\"ordered_products_sale\"), F.col(\"currency\"), F.lit(\"EUR\")))\n",
    "\n",
    "# Show the result\n",
    "joined_df.show(5, truncate=False)\n"
   ]
  },
  {
   "cell_type": "code",
   "execution_count": 17,
   "id": "f347cd94-72f2-49f9-9a38-5dbe5221ada3",
   "metadata": {},
   "outputs": [
    {
     "name": "stdout",
     "output_type": "stream",
     "text": [
      "+----------+--------+----------+-------------+-----------------+---------------------+--------------------------+-------------------+-----------------------+------+---------+-----------+-------+----+--------+-------------------------+------------------------------+\n",
      "|child_asin|sessions|page_views|units_ordered|units_ordered_b2b|ordered_products_sale|ordered_products_sales_b2b|total_ordered_items|total_ordered_items_b2b|region|shop_name|report_date|country|id  |currency|ordered_products_sale_eur|ordered_products_sales_b2b_eur|\n",
      "+----------+--------+----------+-------------+-----------------+---------------------+--------------------------+-------------------+-----------------------+------+---------+-----------+-------+----+--------+-------------------------+------------------------------+\n",
      "|B07KNDZF8Z|1       |1         |0            |0                |242.25               |73.52                     |0                  |0                      |IT    |Feelino  |2022-02-02 |UK     |6767|GBP     |55.0                     |55.0                          |\n",
      "|B07KNDZF8Z|1       |1         |0            |0                |242.25               |73.52                     |0                  |0                      |IT    |Feelino  |2022-02-02 |DE     |5632|EUR     |55.0                     |55.0                          |\n",
      "|B07KNDZF8Z|1       |1         |0            |0                |242.25               |73.52                     |0                  |0                      |IT    |Feelino  |2022-02-02 |ES     |6612|EUR     |55.0                     |55.0                          |\n",
      "|B07KNDZF8Z|1       |1         |0            |0                |242.25               |73.52                     |0                  |0                      |IT    |Feelino  |2022-02-02 |NL     |656 |EUR     |55.0                     |55.0                          |\n",
      "|B07KNDZF8Z|1       |1         |0            |0                |242.25               |73.52                     |0                  |0                      |IT    |Feelino  |2022-02-02 |FR     |3206|EUR     |55.0                     |55.0                          |\n",
      "+----------+--------+----------+-------------+-----------------+---------------------+--------------------------+-------------------+-----------------------+------+---------+-----------+-------+----+--------+-------------------------+------------------------------+\n",
      "only showing top 5 rows\n",
      "\n"
     ]
    }
   ],
   "source": [
    "joined_df = joined_df.withColumn(\"ordered_products_sales_b2b_eur\", convert_currency(F.col(\"ordered_products_sales_b2b\"), F.col(\"currency\"), F.lit(\"EUR\")))\n",
    "# Show the result\n",
    "joined_df.show(5, truncate=False)"
   ]
  },
  {
   "cell_type": "code",
   "execution_count": 18,
   "id": "8f8118a8-c35a-41a2-ac56-be9590fb8919",
   "metadata": {},
   "outputs": [
    {
     "data": {
      "text/plain": [
       "1"
      ]
     },
     "execution_count": 18,
     "metadata": {},
     "output_type": "execute_result"
    }
   ],
   "source": [
    "joined_df.rdd.getNumPartitions()"
   ]
  },
  {
   "cell_type": "code",
   "execution_count": 19,
   "id": "a7161cbc-fd30-4233-9141-6cf948fde645",
   "metadata": {},
   "outputs": [
    {
     "data": {
      "text/plain": [
       "1458"
      ]
     },
     "execution_count": 19,
     "metadata": {},
     "output_type": "execute_result"
    }
   ],
   "source": [
    "joined_df.count()"
   ]
  },
  {
   "cell_type": "markdown",
   "id": "3ff2f256-9a25-4078-bb00-96490980299b",
   "metadata": {},
   "source": [
    "### Calculating the total revenue."
   ]
  },
  {
   "cell_type": "code",
   "execution_count": 20,
   "id": "2e673293-5997-4bfa-a5aa-1de1a6ead897",
   "metadata": {},
   "outputs": [],
   "source": [
    "num_partitions = 12 \n",
    "joined_df = joined_df.repartition(num_partitions)"
   ]
  },
  {
   "cell_type": "code",
   "execution_count": 21,
   "id": "3d152f96-5a0c-48fb-98c0-87bddf97db95",
   "metadata": {},
   "outputs": [
    {
     "name": "stdout",
     "output_type": "stream",
     "text": [
      "Total Revenue for ordered_products_sale_eur: 80190.0\n"
     ]
    }
   ],
   "source": [
    "# The collect() action is used to retrieve all the elements of the DataFrame as an array to the driver program\n",
    "# [0][0]: This part of the code accesses the first element of the array, which is itself an array due to the collect() function.\n",
    "# The second [0] is used to access the first (and only) element in the array.\n",
    "total_revenue = joined_df.agg(sum(\"ordered_products_sale_eur\")).collect()[0][0]\n",
    "print(\"Total Revenue for ordered_products_sale_eur:\", total_revenue)"
   ]
  },
  {
   "cell_type": "code",
   "execution_count": 22,
   "id": "00c8d0e7-7a62-41ea-8c1b-9803ef1e6fbb",
   "metadata": {},
   "outputs": [
    {
     "name": "stdout",
     "output_type": "stream",
     "text": [
      "Total Revenue for ordered_products_sales_b2b_eur: 80190.0\n"
     ]
    }
   ],
   "source": [
    "total_revenue = joined_df.agg(sum(\"ordered_products_sales_b2b_eur\")).collect()[0][0]\n",
    "print(\"Total Revenue for ordered_products_sales_b2b_eur:\", total_revenue)"
   ]
  },
  {
   "cell_type": "markdown",
   "id": "c03fc216-9c93-4ec7-b105-5fa23cf35bb0",
   "metadata": {},
   "source": [
    "### Calculating total revenue per country."
   ]
  },
  {
   "cell_type": "code",
   "execution_count": 23,
   "id": "3f9d1ac6-eca1-4e6b-85dd-6834c4baa16b",
   "metadata": {},
   "outputs": [
    {
     "name": "stdout",
     "output_type": "stream",
     "text": [
      "+-------+-------------+\n",
      "|country|total_revenue|\n",
      "+-------+-------------+\n",
      "|     UK|       8910.0|\n",
      "|     ES|       8910.0|\n",
      "|     PL|       8910.0|\n",
      "|     FR|       8910.0|\n",
      "|     SE|       8910.0|\n",
      "|     DE|       8910.0|\n",
      "|     IT|       8910.0|\n",
      "|     NL|       8910.0|\n",
      "|     TR|       8910.0|\n",
      "+-------+-------------+\n",
      "\n"
     ]
    }
   ],
   "source": [
    "total_revenue_per_country = joined_df.groupBy(\"country\").sum(\"ordered_products_sale_eur\").withColumnRenamed(\"sum(ordered_products_sale_eur)\", \"total_revenue\")\n",
    "total_revenue_per_country.show(10)"
   ]
  },
  {
   "cell_type": "markdown",
   "id": "256a581b-12f6-41fd-9928-20d9d8a14174",
   "metadata": {},
   "source": [
    "### Calculating total revenue per shop"
   ]
  },
  {
   "cell_type": "code",
   "execution_count": 24,
   "id": "af3ca195-bfdd-4182-9802-48687c1cecac",
   "metadata": {},
   "outputs": [
    {
     "name": "stdout",
     "output_type": "stream",
     "text": [
      "+---------+-------------+\n",
      "|shop_name|total_revenue|\n",
      "+---------+-------------+\n",
      "|Casa Chic|       6435.0|\n",
      "|  Feelino|      73755.0|\n",
      "+---------+-------------+\n",
      "\n"
     ]
    }
   ],
   "source": [
    "total_revenue_per_shop = joined_df.groupBy(\"shop_name\").sum(\"ordered_products_sale_eur\").withColumnRenamed(\"sum(ordered_products_sale_eur)\", \"total_revenue\")\n",
    "total_revenue_per_shop.show(10)"
   ]
  },
  {
   "cell_type": "markdown",
   "id": "b985b132-eec8-48a0-bb01-b6d5a78fc4c3",
   "metadata": {},
   "source": [
    "### Checking how many months of data is present"
   ]
  },
  {
   "cell_type": "code",
   "execution_count": 25,
   "id": "ad5cc7a0-e457-438f-9a38-d9ef47f42d85",
   "metadata": {},
   "outputs": [
    {
     "name": "stdout",
     "output_type": "stream",
     "text": [
      "+----------------+----------------+\n",
      "|min(report_date)|max(report_date)|\n",
      "+----------------+----------------+\n",
      "|      2022-01-01|      2022-03-31|\n",
      "+----------------+----------------+\n",
      "\n"
     ]
    }
   ],
   "source": [
    "from pyspark.sql.functions import min, max\n",
    "\n",
    "# To Find the start and end dates\n",
    "start_end_dates = joined_df.agg(min(\"report_date\"), max(\"report_date\"))\n",
    "start_end_dates.show()\n"
   ]
  },
  {
   "cell_type": "markdown",
   "id": "bcaa0a3c-c947-4962-bc29-153ed099e27a",
   "metadata": {},
   "source": [
    "### Calculating total revenue per month"
   ]
  },
  {
   "cell_type": "code",
   "execution_count": 26,
   "id": "1a28dc9e-67e7-4e64-9278-6f2bb71005af",
   "metadata": {},
   "outputs": [
    {
     "name": "stdout",
     "output_type": "stream",
     "text": [
      "+-----+-------------+\n",
      "|month|total_revenue|\n",
      "+-----+-------------+\n",
      "|    2|       9405.0|\n",
      "|    1|       5445.0|\n",
      "|    3|      65340.0|\n",
      "+-----+-------------+\n",
      "\n"
     ]
    }
   ],
   "source": [
    "from pyspark.sql.functions import month\n",
    "final_df_with_month = joined_df.withColumn(\"month\", month(\"report_date\"))\n",
    "total_revenue_per_month = final_df_with_month.groupBy(\"month\").sum(\"ordered_products_sale_eur\").withColumnRenamed(\"sum(ordered_products_sale_eur)\", \"total_revenue\")\n",
    "total_revenue_per_month.show()"
   ]
  },
  {
   "cell_type": "markdown",
   "id": "5a7017a7-90e8-470f-9ed8-2234a1828a3a",
   "metadata": {},
   "source": [
    "## SQL"
   ]
  },
  {
   "cell_type": "markdown",
   "id": "cc32f254-c64e-4808-86cf-74d803a0cbf0",
   "metadata": {},
   "source": [
    "### Creating temporary views for the DataFrames"
   ]
  },
  {
   "cell_type": "code",
   "execution_count": 27,
   "id": "052f93d5-4fd1-428a-b6ab-637d61aa0a46",
   "metadata": {},
   "outputs": [],
   "source": [
    "sales_df.createOrReplaceTempView(\"sales_table\")\n",
    "shop_mapping_df.createOrReplaceTempView(\"shop_table\")"
   ]
  },
  {
   "cell_type": "markdown",
   "id": "18045f45-4130-4388-8b71-a0d9bf2a6b22",
   "metadata": {},
   "source": [
    "### Converting the sales data to euros using SQL"
   ]
  },
  {
   "cell_type": "code",
   "execution_count": 28,
   "id": "c7d580e6-42ac-43e3-b32e-056d4467ccd8",
   "metadata": {},
   "outputs": [
    {
     "data": {
      "text/plain": [
       "<function __main__.conversion_price_function_b2b()>"
      ]
     },
     "execution_count": 28,
     "metadata": {},
     "output_type": "execute_result"
    }
   ],
   "source": [
    "# Registering the conversion function as a UDF\n",
    "def conversion_price_function():\n",
    "    return 55\n",
    "def conversion_price_function_b2b():\n",
    "    return 55\n",
    "\n",
    "spark.udf.register(\"conversion_price_function\", conversion_price_function)\n",
    "spark.udf.register(\"conversion_price_function_b2b\", conversion_price_function_b2b)"
   ]
  },
  {
   "cell_type": "code",
   "execution_count": 29,
   "id": "edda1c22-6f41-4fd1-aaa6-b8d61b1ddaa2",
   "metadata": {},
   "outputs": [
    {
     "name": "stdout",
     "output_type": "stream",
     "text": [
      "+----------+--------+----------+-------------+-----------------+---------------------+-------------------------+--------------------------+------------------------------+-------------------+-----------------------+------+---------+-----------+-------+----+--------+\n",
      "|child_asin|sessions|page_views|units_ordered|units_ordered_b2b|ordered_products_sale|ordered_products_sale_eur|ordered_products_sales_b2b|ordered_products_sales_b2b_eur|total_ordered_items|total_ordered_items_b2b|region|shop_name|report_date|country|  id|currency|\n",
      "+----------+--------+----------+-------------+-----------------+---------------------+-------------------------+--------------------------+------------------------------+-------------------+-----------------------+------+---------+-----------+-------+----+--------+\n",
      "|B07KNDZF8Z|       1|         1|            0|                0|               242.25|                 13323.75|                     73.52|                        4043.6|                  0|                      0|    IT|  Feelino| 2022-02-02|     UK|6767|     GBP|\n",
      "|B07KNDZF8Z|       1|         1|            0|                0|               242.25|                 13323.75|                     73.52|                        4043.6|                  0|                      0|    IT|  Feelino| 2022-02-02|     DE|5632|     EUR|\n",
      "|B07KNDZF8Z|       1|         1|            0|                0|               242.25|                 13323.75|                     73.52|                        4043.6|                  0|                      0|    IT|  Feelino| 2022-02-02|     ES|6612|     EUR|\n",
      "|B07KNDZF8Z|       1|         1|            0|                0|               242.25|                 13323.75|                     73.52|                        4043.6|                  0|                      0|    IT|  Feelino| 2022-02-02|     NL| 656|     EUR|\n",
      "|B07KNDZF8Z|       1|         1|            0|                0|               242.25|                 13323.75|                     73.52|                        4043.6|                  0|                      0|    IT|  Feelino| 2022-02-02|     FR|3206|     EUR|\n",
      "+----------+--------+----------+-------------+-----------------+---------------------+-------------------------+--------------------------+------------------------------+-------------------+-----------------------+------+---------+-----------+-------+----+--------+\n",
      "only showing top 5 rows\n",
      "\n"
     ]
    }
   ],
   "source": [
    "# Registering the conversion function as a UDF\n",
    "def conversion_price_function_euro(from_currency, to_currency):\n",
    "    if from_currency == \"euro\" and to_currency == \"euro\":\n",
    "        return 1.0  # If the conversion is from euro to euro, the price remains the same\n",
    "    elif from_currency == \"usd\" and to_currency == \"euro\":\n",
    "        return 0.74  # Assuming 1 USD = 0.74 EUR\n",
    "    elif from_currency == \"gbp\" and to_currency == \"euro\":\n",
    "        return 0.91  # Assuming 1 GBP = 0.91 EUR\n",
    "    # Add more currency conversion logic here\n",
    "    else:\n",
    "        return 55 \n",
    "\n",
    "spark.udf.register(\"conversion_price_function_euro\", conversion_price_function_euro)\n",
    "\n",
    "# SQL query with the registered UDF\n",
    "sql_euro_conversion_df = spark.sql(\"\"\"\n",
    "SELECT\n",
    "    st.child_asin,\n",
    "    st.sessions,\n",
    "    st.page_views,\n",
    "    st.units_ordered,\n",
    "    st.units_ordered_b2b,\n",
    "    st.ordered_products_sale,\n",
    "    st.ordered_products_sale * conversion_price_function_euro(am.currency, 'euro') AS ordered_products_sale_eur,\n",
    "    st.ordered_products_sales_b2b,\n",
    "    st.ordered_products_sales_b2b * conversion_price_function_euro(am.currency, 'euro') AS ordered_products_sales_b2b_eur,\n",
    "    st.total_ordered_items,\n",
    "    st.total_ordered_items_b2b,\n",
    "    st.region,\n",
    "    st.shop_name,\n",
    "    st.report_date,\n",
    "    am.country,\n",
    "    am.id,\n",
    "    am.currency\n",
    "FROM\n",
    "    sales_table st\n",
    "LEFT JOIN\n",
    "    shop_table am\n",
    "ON\n",
    "    st.shop_name = am.shop_name\n",
    "    WHERE am.country IS NOT NULL AND am.id IS NOT NULL AND am.currency IS NOT NULL\n",
    "\"\"\")\n",
    "\n",
    "sql_euro_conversion_df.show(5)\n"
   ]
  },
  {
   "cell_type": "markdown",
   "id": "23ade7cc-fe35-4e27-9614-95c65691c806",
   "metadata": {},
   "source": [
    "### Calculate the total revenue using SQL"
   ]
  },
  {
   "cell_type": "code",
   "execution_count": 30,
   "id": "32149914-8471-4c60-8120-f98549c9079d",
   "metadata": {},
   "outputs": [
    {
     "name": "stdout",
     "output_type": "stream",
     "text": [
      "+-------------------+\n",
      "|      total_revenue|\n",
      "+-------------------+\n",
      "|5.202110815000001E7|\n",
      "+-------------------+\n",
      "\n"
     ]
    }
   ],
   "source": [
    "sql_total_revenue_df = spark.sql(\"\"\"\n",
    "SELECT\n",
    "    SUM(ordered_products_sale * conversion_price_function()) AS total_revenue\n",
    "FROM\n",
    "    (SELECT\n",
    "        ordered_products_sale\n",
    "    FROM\n",
    "        sales_table st\n",
    "    LEFT JOIN\n",
    "        shop_table am\n",
    "    ON\n",
    "        st.shop_name = am.shop_name) subquery\n",
    "\"\"\")\n",
    "sql_total_revenue_df.show()"
   ]
  },
  {
   "cell_type": "markdown",
   "id": "41b38094-4cee-4ada-a249-ea2427c49a18",
   "metadata": {},
   "source": [
    "### Calculating the total revenue per country using SQL"
   ]
  },
  {
   "cell_type": "code",
   "execution_count": 31,
   "id": "bfd48b30-02f8-42a4-bdea-9ec12ea39592",
   "metadata": {},
   "outputs": [
    {
     "name": "stdout",
     "output_type": "stream",
     "text": [
      "+-------+------------------+\n",
      "|country|     total_revenue|\n",
      "+-------+------------------+\n",
      "|     UK|1348578.0000000002|\n",
      "|     ES|1348578.0000000002|\n",
      "|     FR|1348578.0000000002|\n",
      "|     PL|1348578.0000000002|\n",
      "|     DE|1348578.0000000002|\n",
      "|     NL|1348578.0000000002|\n",
      "|     TR|1348578.0000000002|\n",
      "|     SE|1348578.0000000002|\n",
      "|     IT|1348578.0000000002|\n",
      "+-------+------------------+\n",
      "\n"
     ]
    }
   ],
   "source": [
    "sql_total_revenue_per_country_df = spark.sql(\"\"\"\n",
    "SELECT\n",
    "    country,\n",
    "    SUM(ordered_products_sale * conversion_price_function()) AS total_revenue\n",
    "FROM\n",
    "    (SELECT\n",
    "        st.ordered_products_sale,\n",
    "        am.country\n",
    "    FROM\n",
    "        sales_table st\n",
    "    LEFT JOIN\n",
    "        shop_table am\n",
    "    ON\n",
    "        st.shop_name = am.shop_name\n",
    "        WHERE am.country IS NOT NULL) subquery\n",
    "GROUP BY\n",
    "    country\n",
    "\"\"\")\n",
    "sql_total_revenue_per_country_df.show()"
   ]
  },
  {
   "cell_type": "markdown",
   "id": "482ebe81-2db7-4bd6-8780-6bae062e48a6",
   "metadata": {},
   "source": [
    "### Calculate the total revenue per shop using SQL"
   ]
  },
  {
   "cell_type": "code",
   "execution_count": 32,
   "id": "e30a0bb2-96e1-4a49-82b3-d8f5822d9ae7",
   "metadata": {},
   "outputs": [
    {
     "name": "stdout",
     "output_type": "stream",
     "text": [
      "+--------------------+--------------------+\n",
      "|           shop_name|       total_revenue|\n",
      "+--------------------+--------------------+\n",
      "|     Elektronik-Star|   2225633.850000001|\n",
      "|Klarstein Deutsch...|          1713171.35|\n",
      "|    skullcap-helmets|  1048009.6000000001|\n",
      "|     BBG Superlunary|            15089.25|\n",
      "|BBG The Friendly ...| 2.501761405000001E7|\n",
      "|BBG Scandinavian Hub|            17906.35|\n",
      "| BBG Zelite-Infinity|  22429.550000000003|\n",
      "| Berlin Brands Group|             3284.05|\n",
      "|         BBG BeerCup|  1950539.8000000005|\n",
      "|BBG Gramercy Kitc...|  2211898.6999999997|\n",
      "|             Feelino|1.1055453750000034E7|\n",
      "|            SLIMPURO|   5642200.850000002|\n",
      "|    BBG Spielehelden|            16128.75|\n",
      "|           Casa Chic|  1081748.2499999974|\n",
      "+--------------------+--------------------+\n",
      "\n"
     ]
    }
   ],
   "source": [
    "sql_total_revenue_per_shop_df = spark.sql(\"\"\"\n",
    "SELECT\n",
    "    shop_name,\n",
    "    SUM(ordered_products_sale * conversion_price_function()) AS total_revenue\n",
    "FROM\n",
    "    (SELECT\n",
    "        st.ordered_products_sale,\n",
    "        st.shop_name\n",
    "    FROM\n",
    "        sales_table st\n",
    "    LEFT JOIN\n",
    "        shop_table am\n",
    "    ON\n",
    "        st.shop_name = am.shop_name) subquery\n",
    "GROUP BY\n",
    "    shop_name\n",
    "\"\"\")\n",
    "sql_total_revenue_per_shop_df.show()"
   ]
  }
 ],
 "metadata": {
  "kernelspec": {
   "display_name": "Python 3 (ipykernel)",
   "language": "python",
   "name": "python3"
  },
  "language_info": {
   "codemirror_mode": {
    "name": "ipython",
    "version": 3
   },
   "file_extension": ".py",
   "mimetype": "text/x-python",
   "name": "python",
   "nbconvert_exporter": "python",
   "pygments_lexer": "ipython3",
   "version": "3.9.16"
  }
 },
 "nbformat": 4,
 "nbformat_minor": 5
}
