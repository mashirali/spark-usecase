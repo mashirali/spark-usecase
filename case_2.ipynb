{
 "cells": [
  {
   "cell_type": "code",
   "execution_count": 1,
   "id": "45124266-aa7a-40c6-a903-20a338aa3287",
   "metadata": {},
   "outputs": [],
   "source": [
    "import findspark\n",
    "findspark.init()"
   ]
  },
  {
   "cell_type": "code",
   "execution_count": 2,
   "id": "5d0aa6a7-c35a-4323-9d84-accbf0987695",
   "metadata": {},
   "outputs": [],
   "source": [
    "#import required modules\n",
    "from pyspark import SparkConf, SparkContext\n",
    "from pyspark.sql import SparkSession\n",
    "from pyspark.sql.types import StructType, StructField, StringType, IntegerType, ArrayType\n",
    "from pyspark.sql.functions import *\n",
    "import pyspark.sql.functions as F\n",
    "import warnings\n",
    "from pyspark.sql.types import *\n",
    "import pandas as pd\n",
    "\n",
    "warnings.filterwarnings('ignore')"
   ]
  },
  {
   "cell_type": "code",
   "execution_count": 3,
   "id": "a8dd2745-0d0d-4bb6-93c8-f96ee614189f",
   "metadata": {},
   "outputs": [],
   "source": [
    "import os\n",
    "import sys\n",
    "\n",
    "os.environ['PYSPARK_PYTHON'] = sys.executable\n",
    "os.environ['PYSPARK_DRIVER_PYTHON'] = sys.executable"
   ]
  },
  {
   "cell_type": "code",
   "execution_count": 4,
   "id": "bacc9e43-3bf4-4035-ac04-8803fa24d320",
   "metadata": {},
   "outputs": [],
   "source": [
    "# Initializing a Spark session\n",
    "spark = SparkSession.builder \\\n",
    "    .appName('BBG Case Study Case 2') \\\n",
    "    .getOrCreate()"
   ]
  },
  {
   "cell_type": "markdown",
   "id": "3e980049-9138-4780-b41c-993b8604b95d",
   "metadata": {},
   "source": [
    "### Loading data from files"
   ]
  },
  {
   "cell_type": "code",
   "execution_count": 5,
   "id": "634e656a-b4d1-4355-a9e9-b7bf67808549",
   "metadata": {},
   "outputs": [
    {
     "name": "stdout",
     "output_type": "stream",
     "text": [
      "+---+----------+--------+----------+-------------+-----------------+---------------------+--------------------------+-------------------+-----------------------+------+---------------------+-----------+\n",
      "|#  |child_asin|sessions|page_views|units_ordered|units_ordered_b2b|ordered_products_sale|ordered_products_sales_b2b|total_ordered_items|total_ordered_items_b2b|region|shop_name            |report_date|\n",
      "+---+----------+--------+----------+-------------+-----------------+---------------------+--------------------------+-------------------+-----------------------+------+---------------------+-----------+\n",
      "|1  |B00H5155LG|1       |1         |0            |0                |116.64               |62.49                     |0                  |0                      |UK    |Elektronik-Star      |2022-03-20 |\n",
      "|2  |B002P7L4R4|1       |2         |0            |0                |121.55               |227.24                    |0                  |0                      |UK    |Elektronik-Star      |2022-03-16 |\n",
      "|3  |B08H52NTJ2|2       |2         |0            |0                |79.82                |5.76                      |0                  |0                      |FR    |Klarstein Deutschland|2022-02-20 |\n",
      "|4  |B07D5GJZ85|2       |6         |0            |0                |76.51                |211.71                    |0                  |0                      |ES    |Elektronik-Star      |2022-03-31 |\n",
      "|5  |B07YZM55RQ|1       |4         |0            |0                |63.37                |128.15                    |0                  |0                      |FR    |Elektronik-Star      |2022-02-28 |\n",
      "+---+----------+--------+----------+-------------+-----------------+---------------------+--------------------------+-------------------+-----------------------+------+---------------------+-----------+\n",
      "only showing top 5 rows\n",
      "\n"
     ]
    }
   ],
   "source": [
    "# Loading the sales data into Spark Cluster\n",
    "sales_df = spark.read.csv('F:/usecase/DATA/sales_and_traffic_data.csv', header=True)\n",
    "sales_df.show(5, truncate=False)"
   ]
  },
  {
   "cell_type": "markdown",
   "id": "f732d7cf-c6f7-4833-968d-619fbf94944d",
   "metadata": {},
   "source": [
    "## Loading JSON file via Python Code using pandas and then converted to pyspark"
   ]
  },
  {
   "cell_type": "code",
   "execution_count": 6,
   "id": "a7a3ec02-55b6-42ed-a74f-852abe10ad3f",
   "metadata": {
    "tags": []
   },
   "outputs": [],
   "source": [
    "import json\n",
    "\n",
    "\n",
    "json_file_path = 'F:/usecase/DATA/campaign_object.json'\n",
    "\n",
    "# Opening the JSON file and load its contents\n",
    "with open(json_file_path, 'r') as f:\n",
    "    json_data = json.load(f)\n",
    "\n",
    "# Now 'data' contains the contents of your JSON file\n",
    "#print(json_data)"
   ]
  },
  {
   "cell_type": "code",
   "execution_count": 7,
   "id": "8a85e4f7-e2d1-4ead-be97-e9f0d561db45",
   "metadata": {},
   "outputs": [
    {
     "name": "stdout",
     "output_type": "stream",
     "text": [
      "+----------+---------+--------------------+\n",
      "|CAMPAIGNID|STARTDATE|            CREATIVE|\n",
      "+----------+---------+--------------------+\n",
      "|  54356000| 20220326|{'brandName': 'Pa...|\n",
      "|  32659511| 20220326|{'brandName': 'Pa...|\n",
      "|  14600371| 20221004|{'brandName': 'Pa...|\n",
      "|  68849012| 20221004|{'brandName': 'Pa...|\n",
      "|  39939835| 20221004|{'brandName': 'Pa...|\n",
      "+----------+---------+--------------------+\n",
      "only showing top 5 rows\n",
      "\n"
     ]
    }
   ],
   "source": [
    "# Converting JSON data to a PySpark DataFrame\n",
    "spark_df = spark.createDataFrame(json_data['data'], json_data['columns'])\n",
    "# Showing the contents of the Spark DataFrame\n",
    "spark_df.show(5)"
   ]
  },
  {
   "cell_type": "code",
   "execution_count": 8,
   "id": "d6ce9c5b-7d84-45cd-a433-1c1edda3430d",
   "metadata": {},
   "outputs": [
    {
     "name": "stdout",
     "output_type": "stream",
     "text": [
      "root\n",
      " |-- CAMPAIGNID: long (nullable = true)\n",
      " |-- STARTDATE: long (nullable = true)\n",
      " |-- CREATIVE: string (nullable = true)\n",
      "\n"
     ]
    }
   ],
   "source": [
    "spark_df.printSchema()"
   ]
  },
  {
   "cell_type": "markdown",
   "id": "807dda83-4219-497b-a424-4a91a842a375",
   "metadata": {},
   "source": [
    "## Task 1 - Separating the column CREATIVE to multiple columns ( brandName , brandLogoAssetID , headline , asins , brandLogoUrl )."
   ]
  },
  {
   "cell_type": "code",
   "execution_count": 9,
   "id": "7fbe879e-6818-4345-906a-6c23d3c980fa",
   "metadata": {},
   "outputs": [
    {
     "name": "stdout",
     "output_type": "stream",
     "text": [
      "+----------+---------+--------------------+---------+--------------------+--------------------+--------------------+--------------------+\n",
      "|CAMPAIGNID|STARTDATE|            CREATIVE|brandName|    brandLogoAssetID|            headline|               asins|        brandLogoUrl|\n",
      "+----------+---------+--------------------+---------+--------------------+--------------------+--------------------+--------------------+\n",
      "|  54356000| 20220326|{'brandName': 'Pa...|   Pamara|amzn1.assetlibrar...|Per il tuo futuro...|[B06W5543D6, B074...|https://m.media-a...|\n",
      "|  32659511| 20220326|{'brandName': 'Pa...|   Pamara|amzn1.assetlibrar...|Per il tuo futuro...|[B06W5543D6, B074...|https://m.media-a...|\n",
      "|  14600371| 20221004|{'brandName': 'Pa...|   Pamara|amzn1.assetlibrar...|Per il tuo futuro...|[B06W5543D6, B074...|https://m.media-a...|\n",
      "|  68849012| 20221004|{'brandName': 'Pa...|   Pamara|amzn1.assetlibrar...|Per il tuo futuro...|[B06W5543D6, B074...|https://m.media-a...|\n",
      "|  39939835| 20221004|{'brandName': 'Pa...|   Pamara|amzn1.assetlibrar...|Per il tuo futuro...|[B06W5543D6, B074...|https://m.media-a...|\n",
      "|  32444332| 20221025|{'brandName': 'Pa...|   Pamara|amzn1.assetlibrar...|Per il tuo futuro...|[B06W5543D6, B074...|https://m.media-a...|\n",
      "|   8327752| 20221025|{'brandName': 'Pa...|   Pamara|amzn1.assetlibrar...|Per il tuo futuro...|[B06W5543D6, B074...|https://m.media-a...|\n",
      "|   6889220| 20221025|{'brandName': 'Pa...|   Pamara|amzn1.assetlibrar...|Per il tuo futuro...|[B06W5543D6, B074...|https://m.media-a...|\n",
      "|  44991714| 20221124|{'brandName': 'Pa...|   Pamara|amzn1.assetlibrar...|Per il tuo futuro...|[B074F576VM, B078...|https://m.media-a...|\n",
      "|  24046193| 20221124|{'brandName': 'Pa...|   Pamara|amzn1.assetlibrar...|Per il tuo futuro...|[B074F576VM, B078...|https://m.media-a...|\n",
      "|  34073463| 20211126|{'brandName': 'Pa...|   Pamara|amzn1.assetlibrar...|Per il tuo futuro...|[B06W5543D6, B074...|https://m.media-a...|\n",
      "|  65260731| 20211129|{'brandName': 'Pa...|   Pamara|amzn1.assetlibrar...|Per il tuo futuro...|[B06W5543D6, B074...|https://m.media-a...|\n",
      "|  60193652| 20211129|{'brandName': 'Pa...|   Pamara|amzn1.assetlibrar...|Per il tuo futuro...|[B06W5543D6, B074...|https://m.media-a...|\n",
      "|   9090472| 20211129|{'brandName': 'Pa...|   Pamara|amzn1.assetlibrar...|Per il tuo futuro...|[B06W5543D6, B074...|https://m.media-a...|\n",
      "|  22962827| 20180531|\"{'brandName': 'o...|     null|                null|                null|                null|                null|\n",
      "|  48073983| 20170927|{'brandName': 'KL...|KLARSTEIN|                null|Coperte elettrich...|[B074PRYDMV, B074...|https://images-na...|\n",
      "|  40926946| 20180531|\"{'brandName': 'K...|     null|                null|                null|                null|                null|\n",
      "|  60340574| 20180524|{'brandName': 'KL...|KLARSTEIN|AWOSV4H0Xn9b-RpVkO1T|Entra, spegni, ra...|[B0749RJM8P, B075...|https://images-na...|\n",
      "|   6363994| 20191016|{'brandName': 'Kl...|  Klarfit|AWrBHdsA7nq2gb24IJ0G|La marca moderna ...|[B00VEAW58K, B07D...|https://images-na...|\n",
      "|   1700450| 20191107|{'brandName': 'bl...|blumfeldt|AWrqY5k1Wstm4xTaWIyZ|Lasciati ispirare...|[B073P78667, B07K...|https://images-na...|\n",
      "+----------+---------+--------------------+---------+--------------------+--------------------+--------------------+--------------------+\n",
      "only showing top 20 rows\n",
      "\n"
     ]
    }
   ],
   "source": [
    "# Defining a UDF to extract values from the JSON string\n",
    "def extract_values(creative):\n",
    "    try:\n",
    "        # If the string contains single quotes ('), it is replaced with double quotes (\") to ensure it is in the correct JSON format\n",
    "        creative_dict = json.loads(creative.replace(\"'\", '\"'))\n",
    "        return [creative_dict.get('brandName'), creative_dict.get('brandLogoAssetID'), creative_dict.get('headline'), creative_dict.get('asins'), creative_dict.get('brandLogoUrl')]\n",
    "    except:\n",
    "        return [None, None, None, None, None]\n",
    "# Defining the schema for the new columns\n",
    "schema = ArrayType(StringType())\n",
    "# Registering the UDF\n",
    "extract_values_udf = udf(extract_values, schema)\n",
    "\n",
    "# Applying the UDF to create new columns\n",
    "spark_df = spark_df.withColumn(\"brandName\", extract_values_udf(spark_df['CREATIVE'])[0]) \\\n",
    "       .withColumn(\"brandLogoAssetID\", extract_values_udf(spark_df['CREATIVE'])[1]) \\\n",
    "       .withColumn(\"headline\", extract_values_udf(spark_df['CREATIVE'])[2]) \\\n",
    "       .withColumn(\"asins\", extract_values_udf(spark_df['CREATIVE'])[3]) \\\n",
    "       .withColumn(\"brandLogoUrl\", extract_values_udf(spark_df['CREATIVE'])[4])\n",
    "\n",
    "# Showing the resulting DataFrame\n",
    "spark_df.show()"
   ]
  },
  {
   "cell_type": "markdown",
   "id": "3d0012ad-a115-421c-b7ff-cad1a1b01670",
   "metadata": {},
   "source": [
    "## Task 2 to split the column named 'asins' into 3 asins named as asin_1, asin_2 and asin_3"
   ]
  },
  {
   "cell_type": "code",
   "execution_count": 10,
   "id": "dbabaa59-59b2-43a5-a74e-758ad0a6c1c1",
   "metadata": {},
   "outputs": [
    {
     "name": "stdout",
     "output_type": "stream",
     "text": [
      "+----------+---------+--------------------+---------+--------------------+--------------------+-----------+------------+------------+--------------------+\n",
      "|CAMPAIGNID|STARTDATE|            CREATIVE|brandName|    brandLogoAssetID|            headline|     asin_1|      asin_2|      asin_3|        brandLogoUrl|\n",
      "+----------+---------+--------------------+---------+--------------------+--------------------+-----------+------------+------------+--------------------+\n",
      "|  54356000| 20220326|{'brandName': 'Pa...|   Pamara|amzn1.assetlibrar...|Per il tuo futuro...|[B06W5543D6|  B074F576VM| B078VLNF5K]|https://m.media-a...|\n",
      "|  32659511| 20220326|{'brandName': 'Pa...|   Pamara|amzn1.assetlibrar...|Per il tuo futuro...|[B06W5543D6|  B074F576VM| B078VLNF5K]|https://m.media-a...|\n",
      "|  14600371| 20221004|{'brandName': 'Pa...|   Pamara|amzn1.assetlibrar...|Per il tuo futuro...|[B06W5543D6|  B074F576VM| B078VLNF5K]|https://m.media-a...|\n",
      "|  68849012| 20221004|{'brandName': 'Pa...|   Pamara|amzn1.assetlibrar...|Per il tuo futuro...|[B06W5543D6|  B074F576VM| B078VLNF5K]|https://m.media-a...|\n",
      "|  39939835| 20221004|{'brandName': 'Pa...|   Pamara|amzn1.assetlibrar...|Per il tuo futuro...|[B06W5543D6|  B074F576VM| B078VLNF5K]|https://m.media-a...|\n",
      "|  32444332| 20221025|{'brandName': 'Pa...|   Pamara|amzn1.assetlibrar...|Per il tuo futuro...|[B06W5543D6|  B074F576VM| B078VLNF5K]|https://m.media-a...|\n",
      "|   8327752| 20221025|{'brandName': 'Pa...|   Pamara|amzn1.assetlibrar...|Per il tuo futuro...|[B06W5543D6|  B074F576VM| B078VLNF5K]|https://m.media-a...|\n",
      "|   6889220| 20221025|{'brandName': 'Pa...|   Pamara|amzn1.assetlibrar...|Per il tuo futuro...|[B06W5543D6|  B074F576VM| B078VLNF5K]|https://m.media-a...|\n",
      "|  44991714| 20221124|{'brandName': 'Pa...|   Pamara|amzn1.assetlibrar...|Per il tuo futuro...|[B074F576VM| B078VLNF5K]|        null|https://m.media-a...|\n",
      "|  24046193| 20221124|{'brandName': 'Pa...|   Pamara|amzn1.assetlibrar...|Per il tuo futuro...|[B074F576VM| B078VLNF5K]|        null|https://m.media-a...|\n",
      "|  34073463| 20211126|{'brandName': 'Pa...|   Pamara|amzn1.assetlibrar...|Per il tuo futuro...|[B06W5543D6|  B074F576VM| B078VLNF5K]|https://m.media-a...|\n",
      "|  65260731| 20211129|{'brandName': 'Pa...|   Pamara|amzn1.assetlibrar...|Per il tuo futuro...|[B06W5543D6|  B074F576VM| B078VLNF5K]|https://m.media-a...|\n",
      "|  60193652| 20211129|{'brandName': 'Pa...|   Pamara|amzn1.assetlibrar...|Per il tuo futuro...|[B06W5543D6|  B074F576VM| B078VLNF5K]|https://m.media-a...|\n",
      "|   9090472| 20211129|{'brandName': 'Pa...|   Pamara|amzn1.assetlibrar...|Per il tuo futuro...|[B06W5543D6|  B074F576VM| B078VLNF5K]|https://m.media-a...|\n",
      "|  22962827| 20180531|\"{'brandName': 'o...|     null|                null|                null|       null|        null|        null|                null|\n",
      "|  48073983| 20170927|{'brandName': 'KL...|KLARSTEIN|                null|Coperte elettrich...|[B074PRYDMV|  B074PRTQ1N| B074PQZ4CM]|https://images-na...|\n",
      "|  40926946| 20180531|\"{'brandName': 'K...|     null|                null|                null|       null|        null|        null|                null|\n",
      "|  60340574| 20180524|{'brandName': 'KL...|KLARSTEIN|AWOSV4H0Xn9b-RpVkO1T|Entra, spegni, ra...|[B0749RJM8P|  B07589QRGJ| B073QVW1CL]|https://images-na...|\n",
      "|   6363994| 20191016|{'brandName': 'Kl...|  Klarfit|AWrBHdsA7nq2gb24IJ0G|La marca moderna ...|[B00VEAW58K|  B07D3BBW1L| B07N2TXXF1]|https://images-na...|\n",
      "|   1700450| 20191107|{'brandName': 'bl...|blumfeldt|AWrqY5k1Wstm4xTaWIyZ|Lasciati ispirare...|[B073P78667|  B07KWS1WK5| B07CVGTN5H]|https://images-na...|\n",
      "+----------+---------+--------------------+---------+--------------------+--------------------+-----------+------------+------------+--------------------+\n",
      "only showing top 20 rows\n",
      "\n"
     ]
    }
   ],
   "source": [
    "from pyspark.sql.functions import split\n",
    "\n",
    "# Separating the asins column into three new columns\n",
    "spark_df = spark_df.withColumn(\"asin_1\", split(spark_df['asins'], ',').getItem(0)) \\\n",
    "                  .withColumn(\"asin_2\", split(spark_df['asins'], ',').getItem(1)) \\\n",
    "                  .withColumn(\"asin_3\", split(spark_df['asins'], ',').getItem(2)) \\\n",
    "                  .select(\"CAMPAIGNID\", \"STARTDATE\", \"CREATIVE\", \"brandName\", \"brandLogoAssetID\", \"headline\", \"asin_1\", \"asin_2\", \"asin_3\", \"brandLogoUrl\")\n",
    "\n",
    "\n",
    "# Showing the resulting DataFrame\n",
    "spark_df.show()\n"
   ]
  },
  {
   "cell_type": "markdown",
   "id": "14ad080d-dbbb-4aa3-b296-a95eab790494",
   "metadata": {},
   "source": [
    "## Task 3 - Getting list of distinct ASINs"
   ]
  },
  {
   "cell_type": "code",
   "execution_count": 11,
   "id": "988942af-351c-4ec4-8443-97e49260b659",
   "metadata": {},
   "outputs": [
    {
     "name": "stdout",
     "output_type": "stream",
     "text": [
      "+----------+\n",
      "|child_asin|\n",
      "+----------+\n",
      "|B08HVGLWJM|\n",
      "|B07R621F4H|\n",
      "|B00TKHT08M|\n",
      "|B0747M22NQ|\n",
      "|B08TRK1YCX|\n",
      "|B07ZKW56QG|\n",
      "|B0924NDG7G|\n",
      "|B07VFVZL12|\n",
      "|B01HXLIGIG|\n",
      "|B074M96TMX|\n",
      "|B00F85E0BC|\n",
      "|B08K3L7531|\n",
      "|B07T22YGXX|\n",
      "|B07DHPR4CZ|\n",
      "|B092R2MB5B|\n",
      "|B01MY4KWIE|\n",
      "|B08C59MLCP|\n",
      "|B00S9SMLDY|\n",
      "|B07WS884YH|\n",
      "|B00LIHFPWC|\n",
      "+----------+\n",
      "only showing top 20 rows\n",
      "\n"
     ]
    }
   ],
   "source": [
    "# Extracting distinct ASIN values\n",
    "sales_df = spark.read.csv('F:/usecase/DATA/sales_and_traffic_data.csv', header=True)\n",
    "distinct_asin_df = sales_df.select(\"child_asin\").distinct()\n",
    "# Showing the distinct ASIN DataFrame\n",
    "distinct_asin_df.show()"
   ]
  },
  {
   "cell_type": "markdown",
   "id": "ac5eb9bd-a58f-4522-b390-bbad8bf053d4",
   "metadata": {},
   "source": [
    "## Task 4 - Optimized Approach where we are finding active_asin "
   ]
  },
  {
   "cell_type": "code",
   "execution_count": 12,
   "id": "6ed3f3c9-6a6a-42b2-b029-c0557b0eb425",
   "metadata": {},
   "outputs": [],
   "source": [
    "from pyspark.sql.functions import when\n",
    "\n",
    "# Collecting child_asin values as a list\n",
    "child_asin_list = distinct_asin_df.select(\"child_asin\").rdd.flatMap(lambda x: x).collect()"
   ]
  },
  {
   "cell_type": "code",
   "execution_count": 13,
   "id": "e646bbb9-b401-4337-9241-5ce1b37d4b97",
   "metadata": {},
   "outputs": [
    {
     "name": "stdout",
     "output_type": "stream",
     "text": [
      "+----------+---------+--------+---------+----------------+--------+------+------+------+------------+-----------+\n",
      "|CAMPAIGNID|STARTDATE|CREATIVE|brandName|brandLogoAssetID|headline|asin_1|asin_2|asin_3|brandLogoUrl|active_asin|\n",
      "+----------+---------+--------+---------+----------------+--------+------+------+------+------------+-----------+\n",
      "+----------+---------+--------+---------+----------------+--------+------+------+------+------------+-----------+\n",
      "\n"
     ]
    }
   ],
   "source": [
    "from pyspark.sql.functions import expr, when\n",
    "\n",
    "# Broadcasting the child_asin_list\n",
    "child_asin_list_bc = spark.sparkContext.broadcast(set(child_asin_list))\n",
    "\n",
    "# Conditions for finding active_asin\n",
    "conditions = [\n",
    "    when((col(\"asin_1\").isin(child_asin_list_bc.value)), col(\"asin_1\")),\n",
    "    when((col(\"asin_2\").isin(child_asin_list_bc.value)), col(\"asin_2\")),\n",
    "    when((col(\"asin_3\").isin(child_asin_list_bc.value)), col(\"asin_3\"))\n",
    "]\n",
    "\n",
    "'''\n",
    " The coalesce function is used to find the first non-null value among the conditions specified in the conditions list. \n",
    " The * operator is used to unpack the list and provide its elements as separate arguments to the coalesce function.\n",
    "'''\n",
    "\n",
    "# Using the coalesce function to find the first non-null value\n",
    "distinct_asin_df_with_active_asin = spark_df.withColumn(\n",
    "    \"active_asin\",\n",
    "    coalesce(*conditions)\n",
    ").filter(col(\"active_asin\").isNotNull())\n",
    "\n",
    "# Showing the resulting DataFrame\n",
    "distinct_asin_df_with_active_asin.show()\n"
   ]
  },
  {
   "cell_type": "markdown",
   "id": "7f0061e2-5487-4db3-ada0-31ac3950c2fc",
   "metadata": {},
   "source": [
    "## Task 4 - first approach which didn't stopped while running"
   ]
  },
  {
   "cell_type": "code",
   "execution_count": null,
   "id": "de57ac08-4496-421d-b47d-0276fb4521d3",
   "metadata": {},
   "outputs": [],
   "source": [
    "# Initialize an empty list to store the results\n",
    "results = []\n",
    "# Loop through the list and check for matches in spark_df\n",
    "for child_asin in child_asin_list:\n",
    "    active_asin = None\n",
    "    for row in spark_df.collect():\n",
    "        asin_1 = row.asin_1\n",
    "        asin_2 = row.asin_2\n",
    "        asin_3 = row.asin_3\n",
    "        if child_asin == asin_1 or child_asin == asin_2 or child_asin == asin_3:\n",
    "            active_asin = child_asin\n",
    "            break\n",
    "    results.append((child_asin, active_asin))\n"
   ]
  },
  {
   "cell_type": "code",
   "execution_count": null,
   "id": "df3ac631-627a-4a7f-9d5c-677a080f38af",
   "metadata": {},
   "outputs": [],
   "source": [
    "# Create a new DataFrame from the results list\n",
    "distinct_asin_df_with_active_asin = spark.createDataFrame(results, [\"child_asin\", \"active_asin\"])\n",
    "\n",
    "# Show the resulting DataFrame\n",
    "distinct_asin_df_with_active_asin.show()"
   ]
  }
 ],
 "metadata": {
  "kernelspec": {
   "display_name": "Python 3 (ipykernel)",
   "language": "python",
   "name": "python3"
  },
  "language_info": {
   "codemirror_mode": {
    "name": "ipython",
    "version": 3
   },
   "file_extension": ".py",
   "mimetype": "text/x-python",
   "name": "python",
   "nbconvert_exporter": "python",
   "pygments_lexer": "ipython3",
   "version": "3.9.16"
  }
 },
 "nbformat": 4,
 "nbformat_minor": 5
}
